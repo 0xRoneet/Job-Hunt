{
  "cells": [
    {
      "cell_type": "code",
      "execution_count": 1,
      "metadata": {
        "colab": {
          "base_uri": "https://localhost:8080/"
        },
        "id": "TTTt3UnsRAQY",
        "outputId": "b38fe9ce-31e3-4885-cab8-8695eb399a1b"
      },
      "outputs": [
        {
          "name": "stdout",
          "output_type": "stream",
          "text": [
            "Requirement already satisfied: fastapi in c:\\python311\\lib\\site-packages (0.95.0)\n",
            "Requirement already satisfied: pydantic!=1.7,!=1.7.1,!=1.7.2,!=1.7.3,!=1.8,!=1.8.1,<2.0.0,>=1.6.2 in c:\\python311\\lib\\site-packages (from fastapi) (1.10.6)\n",
            "Requirement already satisfied: starlette<0.27.0,>=0.26.1 in c:\\python311\\lib\\site-packages (from fastapi) (0.26.1)\n",
            "Requirement already satisfied: typing-extensions>=4.2.0 in c:\\python311\\lib\\site-packages (from pydantic!=1.7,!=1.7.1,!=1.7.2,!=1.7.3,!=1.8,!=1.8.1,<2.0.0,>=1.6.2->fastapi) (4.5.0)\n",
            "Requirement already satisfied: anyio<5,>=3.4.0 in c:\\users\\kajal\\appdata\\roaming\\python\\python311\\site-packages (from starlette<0.27.0,>=0.26.1->fastapi) (3.6.2)\n",
            "Requirement already satisfied: idna>=2.8 in c:\\users\\kajal\\appdata\\roaming\\python\\python311\\site-packages (from anyio<5,>=3.4.0->starlette<0.27.0,>=0.26.1->fastapi) (3.4)\n",
            "Requirement already satisfied: sniffio>=1.1 in c:\\users\\kajal\\appdata\\roaming\\python\\python311\\site-packages (from anyio<5,>=3.4.0->starlette<0.27.0,>=0.26.1->fastapi) (1.3.0)\n",
            "Requirement already satisfied: uvicorn in c:\\python311\\lib\\site-packages (0.24.0.post1)\n",
            "Requirement already satisfied: click>=7.0 in c:\\python311\\lib\\site-packages (from uvicorn) (8.1.3)\n",
            "Requirement already satisfied: h11>=0.8 in c:\\python311\\lib\\site-packages (from uvicorn) (0.14.0)\n",
            "Requirement already satisfied: colorama in c:\\users\\kajal\\appdata\\roaming\\python\\python311\\site-packages (from click>=7.0->uvicorn) (0.4.6)\n",
            "Collecting pickle5\n",
            "  Using cached pickle5-0.0.11.tar.gz (132 kB)\n",
            "  Preparing metadata (setup.py): started\n",
            "  Preparing metadata (setup.py): finished with status 'done'\n",
            "Building wheels for collected packages: pickle5\n",
            "  Building wheel for pickle5 (setup.py): started\n",
            "  Building wheel for pickle5 (setup.py): finished with status 'error'\n",
            "  Running setup.py clean for pickle5\n",
            "Failed to build pickle5\n"
          ]
        },
        {
          "name": "stderr",
          "output_type": "stream",
          "text": [
            "  error: subprocess-exited-with-error\n",
            "  \n",
            "  × python setup.py bdist_wheel did not run successfully.\n",
            "  │ exit code: 1\n",
            "  ╰─> [17 lines of output]\n",
            "      running bdist_wheel\n",
            "      running build\n",
            "      running build_py\n",
            "      creating build\n",
            "      creating build\\lib.win-amd64-cpython-311\n",
            "      creating build\\lib.win-amd64-cpython-311\\pickle5\n",
            "      copying pickle5\\pickle.py -> build\\lib.win-amd64-cpython-311\\pickle5\n",
            "      copying pickle5\\pickletools.py -> build\\lib.win-amd64-cpython-311\\pickle5\n",
            "      copying pickle5\\__init__.py -> build\\lib.win-amd64-cpython-311\\pickle5\n",
            "      creating build\\lib.win-amd64-cpython-311\\pickle5\\test\n",
            "      copying pickle5\\test\\pickletester.py -> build\\lib.win-amd64-cpython-311\\pickle5\\test\n",
            "      copying pickle5\\test\\test_pickle.py -> build\\lib.win-amd64-cpython-311\\pickle5\\test\n",
            "      copying pickle5\\test\\test_picklebuffer.py -> build\\lib.win-amd64-cpython-311\\pickle5\\test\n",
            "      copying pickle5\\test\\__init__.py -> build\\lib.win-amd64-cpython-311\\pickle5\\test\n",
            "      running build_ext\n",
            "      building 'pickle5._pickle' extension\n",
            "      error: Microsoft Visual C++ 14.0 or greater is required. Get it with \"Microsoft C++ Build Tools\": https://visualstudio.microsoft.com/visual-cpp-build-tools/\n",
            "      [end of output]\n",
            "  \n",
            "  note: This error originates from a subprocess, and is likely not a problem with pip.\n",
            "  ERROR: Failed building wheel for pickle5\n",
            "ERROR: Could not build wheels for pickle5, which is required to install pyproject.toml-based projects\n"
          ]
        },
        {
          "name": "stdout",
          "output_type": "stream",
          "text": [
            "Requirement already satisfied: pydantic in c:\\python311\\lib\\site-packages (1.10.6)\n",
            "Requirement already satisfied: typing-extensions>=4.2.0 in c:\\python311\\lib\\site-packages (from pydantic) (4.5.0)\n",
            "Requirement already satisfied: scikit-learn in c:\\python311\\lib\\site-packages (1.2.2)\n",
            "Requirement already satisfied: numpy>=1.17.3 in c:\\python311\\lib\\site-packages (from scikit-learn) (1.23.5)\n",
            "Requirement already satisfied: scipy>=1.3.2 in c:\\python311\\lib\\site-packages (from scikit-learn) (1.10.1)\n",
            "Requirement already satisfied: joblib>=1.1.1 in c:\\python311\\lib\\site-packages (from scikit-learn) (1.2.0)\n",
            "Requirement already satisfied: threadpoolctl>=2.0.0 in c:\\python311\\lib\\site-packages (from scikit-learn) (3.1.0)\n",
            "Requirement already satisfied: requests in c:\\users\\kajal\\appdata\\roaming\\python\\python311\\site-packages (2.28.2)\n",
            "Requirement already satisfied: charset-normalizer<4,>=2 in c:\\users\\kajal\\appdata\\roaming\\python\\python311\\site-packages (from requests) (3.0.1)\n",
            "Requirement already satisfied: idna<4,>=2.5 in c:\\users\\kajal\\appdata\\roaming\\python\\python311\\site-packages (from requests) (3.4)\n",
            "Requirement already satisfied: urllib3<1.27,>=1.21.1 in c:\\users\\kajal\\appdata\\roaming\\python\\python311\\site-packages (from requests) (1.26.14)\n",
            "Requirement already satisfied: certifi>=2017.4.17 in c:\\users\\kajal\\appdata\\roaming\\python\\python311\\site-packages (from requests) (2022.12.7)\n",
            "Requirement already satisfied: pypi-json in c:\\python311\\lib\\site-packages (0.4.0)\n",
            "Requirement already satisfied: apeye>=1.1.0 in c:\\python311\\lib\\site-packages (from pypi-json) (1.4.1)\n",
            "Requirement already satisfied: packaging>=21.0 in c:\\users\\kajal\\appdata\\roaming\\python\\python311\\site-packages (from pypi-json) (23.0)\n",
            "Requirement already satisfied: requests>=2.26.0 in c:\\users\\kajal\\appdata\\roaming\\python\\python311\\site-packages (from pypi-json) (2.28.2)\n",
            "Requirement already satisfied: apeye-core>=1.0.0b2 in c:\\python311\\lib\\site-packages (from apeye>=1.1.0->pypi-json) (1.1.4)\n",
            "Requirement already satisfied: domdf-python-tools>=2.6.0 in c:\\python311\\lib\\site-packages (from apeye>=1.1.0->pypi-json) (3.8.0.post2)\n",
            "Requirement already satisfied: platformdirs>=2.3.0 in c:\\users\\kajal\\appdata\\roaming\\python\\python311\\site-packages (from apeye>=1.1.0->pypi-json) (3.0.0)\n",
            "Requirement already satisfied: charset-normalizer<4,>=2 in c:\\users\\kajal\\appdata\\roaming\\python\\python311\\site-packages (from requests>=2.26.0->pypi-json) (3.0.1)\n",
            "Requirement already satisfied: idna<4,>=2.5 in c:\\users\\kajal\\appdata\\roaming\\python\\python311\\site-packages (from requests>=2.26.0->pypi-json) (3.4)\n",
            "Requirement already satisfied: urllib3<1.27,>=1.21.1 in c:\\users\\kajal\\appdata\\roaming\\python\\python311\\site-packages (from requests>=2.26.0->pypi-json) (1.26.14)\n",
            "Requirement already satisfied: certifi>=2017.4.17 in c:\\users\\kajal\\appdata\\roaming\\python\\python311\\site-packages (from requests>=2.26.0->pypi-json) (2022.12.7)\n",
            "Requirement already satisfied: natsort>=7.0.1 in c:\\python311\\lib\\site-packages (from domdf-python-tools>=2.6.0->apeye>=1.1.0->pypi-json) (8.4.0)\n",
            "Requirement already satisfied: typing-extensions>=3.7.4.1 in c:\\python311\\lib\\site-packages (from domdf-python-tools>=2.6.0->apeye>=1.1.0->pypi-json) (4.5.0)\n",
            "Requirement already satisfied: pyngrok in c:\\python311\\lib\\site-packages (7.0.3)\n",
            "Requirement already satisfied: PyYAML in c:\\users\\kajal\\appdata\\roaming\\python\\python311\\site-packages (from pyngrok) (6.0)\n",
            "Requirement already satisfied: nest-asyncio in c:\\users\\kajal\\appdata\\roaming\\python\\python311\\site-packages (1.5.6)\n"
          ]
        }
      ],
      "source": [
        "!pip install fastapi\n",
        "!pip install uvicorn\n",
        "!pip install pickle5\n",
        "!pip install pydantic\n",
        "!pip install scikit-learn\n",
        "!pip install requests\n",
        "!pip install pypi-json\n",
        "!pip install pyngrok\n",
        "!pip install nest-asyncio"
      ]
    },
    {
      "cell_type": "code",
      "execution_count": 2,
      "metadata": {
        "id": "cU70GHePRDUK"
      },
      "outputs": [],
      "source": [
        "from fastapi import FastAPI\n",
        "from pydantic import BaseModel\n",
        "import pickle\n",
        "import json\n",
        "import uvicorn\n",
        "from pyngrok import ngrok\n",
        "from fastapi.middleware.cors import CORSMiddleware\n",
        "import nest_asyncio"
      ]
    },
    {
      "cell_type": "code",
      "execution_count": 3,
      "metadata": {
        "id": "Jhgv_OvsWvEq"
      },
      "outputs": [],
      "source": [
        "app = FastAPI()"
      ]
    },
    {
      "cell_type": "code",
      "execution_count": 4,
      "metadata": {
        "id": "1t_tfy5FRFzQ"
      },
      "outputs": [],
      "source": [
        "origins = [\"*\"]\n",
        "app.add_middleware(\n",
        "    CORSMiddleware,\n",
        "    allow_origins=origins,\n",
        "    allow_credentials=True,\n",
        "    allow_methods=[\"*\"],\n",
        "    allow_headers=[\"*\"],\n",
        ")"
      ]
    },
    {
      "cell_type": "code",
      "execution_count": 5,
      "metadata": {
        "id": "Uym0CA_2RKqr"
      },
      "outputs": [],
      "source": [
        "class model_input(BaseModel):\n",
        "    Age : int\n",
        "    CGPA : int\n",
        "    Stream : int\n",
        "    Certification : int\n",
        "    Internships : int\n",
        "    HistoryOfBacklogs : int\n",
        "    Gender : int"
      ]
    },
    {
      "cell_type": "code",
      "execution_count": 6,
      "metadata": {
        "id": "gkiFErsMRSlB"
      },
      "outputs": [],
      "source": [
        "import joblib\n",
        "# Load the saved model\n",
        "rf = joblib.load('rf.pkl')"
      ]
    },
    {
      "cell_type": "code",
      "execution_count": 7,
      "metadata": {
        "id": "dN_t-UNzReP6"
      },
      "outputs": [],
      "source": [
        "@app.post('/placement_prediction')\n",
        "def placement_predd(input_parameters : model_input):\n",
        "\n",
        "    input_data = input_parameters.json()\n",
        "    input_dictionary = json.loads(input_data)\n",
        "\n",
        "    Age = input_dictionary['Age']\n",
        "    CGPA = input_dictionary['CGPA']\n",
        "    Stream = input_dictionary['Stream']\n",
        "    Certification = input_dictionary['Certification']\n",
        "    Internships = input_dictionary['Internships']\n",
        "    HistoryOfBacklogs = input_dictionary['HistoryOfBacklogs']\n",
        "    Gender = input_dictionary['Gender']\n",
        "\n",
        "    input_list = [\n",
        "        Age,\n",
        "        CGPA,\n",
        "        Stream,\n",
        "        Certification,\n",
        "        Internships,\n",
        "        HistoryOfBacklogs,\n",
        "        Gender\n",
        "    ]\n",
        "\n",
        "    prediction = rf.predict([input_list])\n",
        "\n",
        "    if prediction == 1:\n",
        "       print(\"Prediction: Placed\")\n",
        "    else:\n",
        "       print(\"Prediction: Not Placed\")"
      ]
    },
    {
      "cell_type": "code",
      "execution_count": 8,
      "metadata": {
        "colab": {
          "base_uri": "https://localhost:8080/"
        },
        "id": "1PQNvKekRk6U",
        "outputId": "98fbe630-3be9-475f-e4a6-0a06839ef179"
      },
      "outputs": [
        {
          "name": "stderr",
          "output_type": "stream",
          "text": [
            "t=2023-12-14T13:57:42+0530 lvl=warn msg=\"Your agent is deprecated. Please update at your earliest convenience.\" obj=tunnels.session extra=\"\\nWARNING: Usage of ngrok will soon require a verified account and authtoken.\\nSign up for an account: https://dashboard.ngrok.com/signup\\nInstall your authtoken: https://dashboard.ngrok.com/get-started/your-authtoken\"\n",
            "INFO:     Started server process [11928]\n",
            "INFO:     Waiting for application startup.\n",
            "INFO:     Application startup complete.\n",
            "INFO:     Uvicorn running on http://127.0.0.1:8000 (Press CTRL+C to quit)\n"
          ]
        },
        {
          "name": "stdout",
          "output_type": "stream",
          "text": [
            "Public URL: https://2667-14-142-143-98.ngrok.io\n"
          ]
        },
        {
          "name": "stderr",
          "output_type": "stream",
          "text": [
            "INFO:     Shutting down\n",
            "INFO:     Waiting for application shutdown.\n",
            "INFO:     Application shutdown complete.\n",
            "INFO:     Finished server process [11928]\n"
          ]
        }
      ],
      "source": [
        "ngrok_tunnel = ngrok.connect(8000)\n",
        "print('Public URL:', ngrok_tunnel.public_url)\n",
        "nest_asyncio.apply()\n",
        "uvicorn.run(app, port=8000)"
      ]
    },
    {
      "cell_type": "code",
      "execution_count": null,
      "metadata": {
        "id": "z8IbtMrycUUj"
      },
      "outputs": [],
      "source": []
    },
    {
      "cell_type": "code",
      "execution_count": null,
      "metadata": {},
      "outputs": [],
      "source": []
    },
    {
      "cell_type": "code",
      "execution_count": null,
      "metadata": {},
      "outputs": [],
      "source": []
    }
  ],
  "metadata": {
    "colab": {
      "provenance": []
    },
    "kernelspec": {
      "display_name": "Python 3",
      "name": "python3"
    },
    "language_info": {
      "codemirror_mode": {
        "name": "ipython",
        "version": 3
      },
      "file_extension": ".py",
      "mimetype": "text/x-python",
      "name": "python",
      "nbconvert_exporter": "python",
      "pygments_lexer": "ipython3",
      "version": "3.11.4"
    }
  },
  "nbformat": 4,
  "nbformat_minor": 0
}
