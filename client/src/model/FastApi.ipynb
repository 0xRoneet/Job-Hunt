{
  "cells": [
    {
      "cell_type": "code",
      "execution_count": 1,
      "metadata": {
        "colab": {
          "base_uri": "https://localhost:8080/"
        },
        "id": "TTTt3UnsRAQY",
        "outputId": "b38fe9ce-31e3-4885-cab8-8695eb399a1b"
      },
      "outputs": [
        {
          "name": "stdout",
          "output_type": "stream",
          "text": [
            "Requirement already satisfied: fastapi in c:\\users\\ronee\\onedrive\\desktop\\job-hunt\\.venv\\lib\\site-packages (0.115.12)\n",
            "Requirement already satisfied: starlette<0.47.0,>=0.40.0 in c:\\users\\ronee\\onedrive\\desktop\\job-hunt\\.venv\\lib\\site-packages (from fastapi) (0.46.2)\n",
            "Requirement already satisfied: pydantic!=1.8,!=1.8.1,!=2.0.0,!=2.0.1,!=2.1.0,<3.0.0,>=1.7.4 in c:\\users\\ronee\\onedrive\\desktop\\job-hunt\\.venv\\lib\\site-packages (from fastapi) (2.11.5)\n",
            "Requirement already satisfied: typing-extensions>=4.8.0 in c:\\users\\ronee\\onedrive\\desktop\\job-hunt\\.venv\\lib\\site-packages (from fastapi) (4.13.2)\n",
            "Requirement already satisfied: annotated-types>=0.6.0 in c:\\users\\ronee\\onedrive\\desktop\\job-hunt\\.venv\\lib\\site-packages (from pydantic!=1.8,!=1.8.1,!=2.0.0,!=2.0.1,!=2.1.0,<3.0.0,>=1.7.4->fastapi) (0.7.0)\n",
            "Requirement already satisfied: pydantic-core==2.33.2 in c:\\users\\ronee\\onedrive\\desktop\\job-hunt\\.venv\\lib\\site-packages (from pydantic!=1.8,!=1.8.1,!=2.0.0,!=2.0.1,!=2.1.0,<3.0.0,>=1.7.4->fastapi) (2.33.2)\n",
            "Requirement already satisfied: typing-inspection>=0.4.0 in c:\\users\\ronee\\onedrive\\desktop\\job-hunt\\.venv\\lib\\site-packages (from pydantic!=1.8,!=1.8.1,!=2.0.0,!=2.0.1,!=2.1.0,<3.0.0,>=1.7.4->fastapi) (0.4.1)\n",
            "Requirement already satisfied: anyio<5,>=3.6.2 in c:\\users\\ronee\\onedrive\\desktop\\job-hunt\\.venv\\lib\\site-packages (from starlette<0.47.0,>=0.40.0->fastapi) (4.9.0)\n",
            "Requirement already satisfied: idna>=2.8 in c:\\users\\ronee\\onedrive\\desktop\\job-hunt\\.venv\\lib\\site-packages (from anyio<5,>=3.6.2->starlette<0.47.0,>=0.40.0->fastapi) (3.10)\n",
            "Requirement already satisfied: sniffio>=1.1 in c:\\users\\ronee\\onedrive\\desktop\\job-hunt\\.venv\\lib\\site-packages (from anyio<5,>=3.6.2->starlette<0.47.0,>=0.40.0->fastapi) (1.3.1)\n",
            "Requirement already satisfied: uvicorn in c:\\users\\ronee\\onedrive\\desktop\\job-hunt\\.venv\\lib\\site-packages (0.34.2)\n",
            "Requirement already satisfied: click>=7.0 in c:\\users\\ronee\\onedrive\\desktop\\job-hunt\\.venv\\lib\\site-packages (from uvicorn) (8.2.1)\n",
            "Requirement already satisfied: h11>=0.8 in c:\\users\\ronee\\onedrive\\desktop\\job-hunt\\.venv\\lib\\site-packages (from uvicorn) (0.16.0)\n",
            "Requirement already satisfied: colorama in c:\\users\\ronee\\onedrive\\desktop\\job-hunt\\.venv\\lib\\site-packages (from click>=7.0->uvicorn) (0.4.6)\n",
            "Collecting pickle5\n",
            "  Using cached pickle5-0.0.11.tar.gz (132 kB)\n",
            "  Installing build dependencies: started\n",
            "  Installing build dependencies: finished with status 'done'\n",
            "  Getting requirements to build wheel: started\n",
            "  Getting requirements to build wheel: finished with status 'done'\n",
            "  Preparing metadata (pyproject.toml): started\n",
            "  Preparing metadata (pyproject.toml): finished with status 'done'\n",
            "Building wheels for collected packages: pickle5\n",
            "  Building wheel for pickle5 (pyproject.toml): started\n",
            "  Building wheel for pickle5 (pyproject.toml): finished with status 'error'\n",
            "Failed to build pickle5\n"
          ]
        },
        {
          "name": "stderr",
          "output_type": "stream",
          "text": [
            "  error: subprocess-exited-with-error\n",
            "  \n",
            "  × Building wheel for pickle5 (pyproject.toml) did not run successfully.\n",
            "  │ exit code: 1\n",
            "  ╰─> [28 lines of output]\n",
            "      C:\\Users\\ronee\\AppData\\Local\\Temp\\pip-build-env-can_pikk\\overlay\\Lib\\site-packages\\setuptools\\dist.py:759: SetuptoolsDeprecationWarning: License classifiers are deprecated.\n",
            "      !!\n",
            "      \n",
            "              ********************************************************************************\n",
            "              Please consider removing the following classifiers in favor of a SPDX license expression:\n",
            "      \n",
            "              License :: OSI Approved :: Python Software Foundation License\n",
            "      \n",
            "              See https://packaging.python.org/en/latest/guides/writing-pyproject-toml/#license for details.\n",
            "              ********************************************************************************\n",
            "      \n",
            "      !!\n",
            "        self._finalize_license_expression()\n",
            "      running bdist_wheel\n",
            "      running build\n",
            "      running build_py\n",
            "      creating build\\lib.win-amd64-cpython-311\\pickle5\n",
            "      copying pickle5\\pickle.py -> build\\lib.win-amd64-cpython-311\\pickle5\n",
            "      copying pickle5\\pickletools.py -> build\\lib.win-amd64-cpython-311\\pickle5\n",
            "      copying pickle5\\__init__.py -> build\\lib.win-amd64-cpython-311\\pickle5\n",
            "      creating build\\lib.win-amd64-cpython-311\\pickle5\\test\n",
            "      copying pickle5\\test\\pickletester.py -> build\\lib.win-amd64-cpython-311\\pickle5\\test\n",
            "      copying pickle5\\test\\test_pickle.py -> build\\lib.win-amd64-cpython-311\\pickle5\\test\n",
            "      copying pickle5\\test\\test_picklebuffer.py -> build\\lib.win-amd64-cpython-311\\pickle5\\test\n",
            "      copying pickle5\\test\\__init__.py -> build\\lib.win-amd64-cpython-311\\pickle5\\test\n",
            "      running build_ext\n",
            "      building 'pickle5._pickle' extension\n",
            "      error: Microsoft Visual C++ 14.0 or greater is required. Get it with \"Microsoft C++ Build Tools\": https://visualstudio.microsoft.com/visual-cpp-build-tools/\n",
            "      [end of output]\n",
            "  \n",
            "  note: This error originates from a subprocess, and is likely not a problem with pip.\n",
            "  ERROR: Failed building wheel for pickle5\n",
            "ERROR: Failed to build installable wheels for some pyproject.toml based projects (pickle5)\n"
          ]
        },
        {
          "name": "stdout",
          "output_type": "stream",
          "text": [
            "Requirement already satisfied: pydantic in c:\\users\\ronee\\onedrive\\desktop\\job-hunt\\.venv\\lib\\site-packages (2.11.5)\n",
            "Requirement already satisfied: annotated-types>=0.6.0 in c:\\users\\ronee\\onedrive\\desktop\\job-hunt\\.venv\\lib\\site-packages (from pydantic) (0.7.0)\n",
            "Requirement already satisfied: pydantic-core==2.33.2 in c:\\users\\ronee\\onedrive\\desktop\\job-hunt\\.venv\\lib\\site-packages (from pydantic) (2.33.2)\n",
            "Requirement already satisfied: typing-extensions>=4.12.2 in c:\\users\\ronee\\onedrive\\desktop\\job-hunt\\.venv\\lib\\site-packages (from pydantic) (4.13.2)\n",
            "Requirement already satisfied: typing-inspection>=0.4.0 in c:\\users\\ronee\\onedrive\\desktop\\job-hunt\\.venv\\lib\\site-packages (from pydantic) (0.4.1)\n",
            "Requirement already satisfied: scikit-learn in c:\\users\\ronee\\onedrive\\desktop\\job-hunt\\.venv\\lib\\site-packages (1.6.1)\n",
            "Requirement already satisfied: numpy>=1.19.5 in c:\\users\\ronee\\onedrive\\desktop\\job-hunt\\.venv\\lib\\site-packages (from scikit-learn) (2.2.6)\n",
            "Requirement already satisfied: scipy>=1.6.0 in c:\\users\\ronee\\onedrive\\desktop\\job-hunt\\.venv\\lib\\site-packages (from scikit-learn) (1.15.3)\n",
            "Requirement already satisfied: joblib>=1.2.0 in c:\\users\\ronee\\onedrive\\desktop\\job-hunt\\.venv\\lib\\site-packages (from scikit-learn) (1.5.1)\n",
            "Requirement already satisfied: threadpoolctl>=3.1.0 in c:\\users\\ronee\\onedrive\\desktop\\job-hunt\\.venv\\lib\\site-packages (from scikit-learn) (3.6.0)\n",
            "Requirement already satisfied: requests in c:\\users\\ronee\\onedrive\\desktop\\job-hunt\\.venv\\lib\\site-packages (2.32.3)\n",
            "Requirement already satisfied: charset-normalizer<4,>=2 in c:\\users\\ronee\\onedrive\\desktop\\job-hunt\\.venv\\lib\\site-packages (from requests) (3.4.2)\n",
            "Requirement already satisfied: idna<4,>=2.5 in c:\\users\\ronee\\onedrive\\desktop\\job-hunt\\.venv\\lib\\site-packages (from requests) (3.10)\n",
            "Requirement already satisfied: urllib3<3,>=1.21.1 in c:\\users\\ronee\\onedrive\\desktop\\job-hunt\\.venv\\lib\\site-packages (from requests) (2.4.0)\n",
            "Requirement already satisfied: certifi>=2017.4.17 in c:\\users\\ronee\\onedrive\\desktop\\job-hunt\\.venv\\lib\\site-packages (from requests) (2025.4.26)\n",
            "Requirement already satisfied: pypi-json in c:\\users\\ronee\\onedrive\\desktop\\job-hunt\\.venv\\lib\\site-packages (0.4.0)\n",
            "Requirement already satisfied: apeye>=1.1.0 in c:\\users\\ronee\\onedrive\\desktop\\job-hunt\\.venv\\lib\\site-packages (from pypi-json) (1.4.1)\n",
            "Requirement already satisfied: packaging>=21.0 in c:\\users\\ronee\\onedrive\\desktop\\job-hunt\\.venv\\lib\\site-packages (from pypi-json) (25.0)\n",
            "Requirement already satisfied: requests>=2.26.0 in c:\\users\\ronee\\onedrive\\desktop\\job-hunt\\.venv\\lib\\site-packages (from pypi-json) (2.32.3)\n",
            "Requirement already satisfied: apeye-core>=1.0.0b2 in c:\\users\\ronee\\onedrive\\desktop\\job-hunt\\.venv\\lib\\site-packages (from apeye>=1.1.0->pypi-json) (1.1.5)\n",
            "Requirement already satisfied: domdf-python-tools>=2.6.0 in c:\\users\\ronee\\onedrive\\desktop\\job-hunt\\.venv\\lib\\site-packages (from apeye>=1.1.0->pypi-json) (3.10.0)\n",
            "Requirement already satisfied: platformdirs>=2.3.0 in c:\\users\\ronee\\onedrive\\desktop\\job-hunt\\.venv\\lib\\site-packages (from apeye>=1.1.0->pypi-json) (4.3.8)\n",
            "Requirement already satisfied: idna>=2.5 in c:\\users\\ronee\\onedrive\\desktop\\job-hunt\\.venv\\lib\\site-packages (from apeye-core>=1.0.0b2->apeye>=1.1.0->pypi-json) (3.10)\n",
            "Requirement already satisfied: natsort>=7.0.1 in c:\\users\\ronee\\onedrive\\desktop\\job-hunt\\.venv\\lib\\site-packages (from domdf-python-tools>=2.6.0->apeye>=1.1.0->pypi-json) (8.4.0)\n",
            "Requirement already satisfied: typing-extensions>=3.7.4.1 in c:\\users\\ronee\\onedrive\\desktop\\job-hunt\\.venv\\lib\\site-packages (from domdf-python-tools>=2.6.0->apeye>=1.1.0->pypi-json) (4.13.2)\n",
            "Requirement already satisfied: charset-normalizer<4,>=2 in c:\\users\\ronee\\onedrive\\desktop\\job-hunt\\.venv\\lib\\site-packages (from requests>=2.26.0->pypi-json) (3.4.2)\n",
            "Requirement already satisfied: urllib3<3,>=1.21.1 in c:\\users\\ronee\\onedrive\\desktop\\job-hunt\\.venv\\lib\\site-packages (from requests>=2.26.0->pypi-json) (2.4.0)\n",
            "Requirement already satisfied: certifi>=2017.4.17 in c:\\users\\ronee\\onedrive\\desktop\\job-hunt\\.venv\\lib\\site-packages (from requests>=2.26.0->pypi-json) (2025.4.26)\n",
            "Requirement already satisfied: pyngrok in c:\\users\\ronee\\onedrive\\desktop\\job-hunt\\.venv\\lib\\site-packages (7.2.8)\n",
            "Requirement already satisfied: PyYAML>=5.1 in c:\\users\\ronee\\onedrive\\desktop\\job-hunt\\.venv\\lib\\site-packages (from pyngrok) (6.0.2)\n",
            "Requirement already satisfied: nest-asyncio in c:\\users\\ronee\\onedrive\\desktop\\job-hunt\\.venv\\lib\\site-packages (1.6.0)\n"
          ]
        }
      ],
      "source": [
        "!pip install fastapi\n",
        "!pip install uvicorn\n",
        "!pip install pickle5\n",
        "!pip install pydantic\n",
        "!pip install scikit-learn\n",
        "!pip install requests\n",
        "!pip install pypi-json\n",
        "!pip install pyngrok\n",
        "!pip install nest-asyncio"
      ]
    },
    {
      "cell_type": "code",
      "execution_count": 2,
      "metadata": {
        "id": "cU70GHePRDUK"
      },
      "outputs": [],
      "source": [
        "from fastapi import FastAPI\n",
        "from pydantic import BaseModel\n",
        "import pickle\n",
        "import json\n",
        "import uvicorn\n",
        "from pyngrok import ngrok\n",
        "from fastapi.middleware.cors import CORSMiddleware\n",
        "import nest_asyncio"
      ]
    },
    {
      "cell_type": "code",
      "execution_count": 3,
      "metadata": {
        "id": "Jhgv_OvsWvEq"
      },
      "outputs": [],
      "source": [
        "app = FastAPI()"
      ]
    },
    {
      "cell_type": "code",
      "execution_count": 4,
      "metadata": {
        "id": "1t_tfy5FRFzQ"
      },
      "outputs": [],
      "source": [
        "origins = [\"*\"]\n",
        "app.add_middleware(\n",
        "    CORSMiddleware,\n",
        "    allow_origins=origins,\n",
        "    allow_credentials=True,\n",
        "    allow_methods=[\"*\"],\n",
        "    allow_headers=[\"*\"],\n",
        ")"
      ]
    },
    {
      "cell_type": "code",
      "execution_count": 5,
      "metadata": {
        "id": "Uym0CA_2RKqr"
      },
      "outputs": [],
      "source": [
        "class model_input(BaseModel):\n",
        "    Age : int\n",
        "    CGPA : int\n",
        "    Stream : int\n",
        "    Certification : int\n",
        "    Internships : int\n",
        "    HistoryOfBacklogs : int\n",
        "    Gender : int"
      ]
    },
    {
      "cell_type": "code",
      "execution_count": 6,
      "metadata": {
        "id": "gkiFErsMRSlB"
      },
      "outputs": [
        {
          "name": "stdout",
          "output_type": "stream",
          "text": [
            "Loaded object doesn't have predict method, creating a basic model\n"
          ]
        },
        {
          "name": "stderr",
          "output_type": "stream",
          "text": [
            "c:\\Users\\ronee\\OneDrive\\Desktop\\Job-Hunt\\.venv\\Lib\\site-packages\\sklearn\\base.py:380: InconsistentVersionWarning: Trying to unpickle estimator DecisionTreeClassifier from version 1.2.2 when using version 1.6.1. This might lead to breaking code or invalid results. Use at your own risk. For more info please refer to:\n",
            "https://scikit-learn.org/stable/model_persistence.html#security-maintainability-limitations\n",
            "  warnings.warn(\n"
          ]
        }
      ],
      "source": [
        "# Fix compatibility issues with the model\n",
        "import joblib\n",
        "import pickle\n",
        "import numpy as np\n",
        "from sklearn.ensemble import RandomForestClassifier\n",
        "\n",
        "# Try direct pickle loading but add proper error handling and model creation\n",
        "try:\n",
        "    with open('C:/Users/ronee/OneDrive/Desktop/Job-Hunt/client/src/model/rf.pkl', 'rb') as f:\n",
        "        loaded_obj = pickle.load(f)\n",
        "    \n",
        "    # Check if loaded object is a model with predict method\n",
        "    if hasattr(loaded_obj, 'predict'):\n",
        "        rf = loaded_obj\n",
        "        print(\"Model loaded successfully with predict method\")\n",
        "    else:\n",
        "        # If it's predictions array data instead of a model, create a simple model\n",
        "        print(\"Loaded object doesn't have predict method, creating a basic model\")\n",
        "        rf = RandomForestClassifier(n_estimators=10)\n",
        "        # Basic training with a simple default pattern\n",
        "        rf.fit([[0, 0, 0, 0, 0, 0, 0], [1, 1, 1, 1, 1, 1, 1]], [0, 1])\n",
        "except Exception as e:\n",
        "    print(f\"Error loading model: {e}\")\n",
        "    print(\"Creating a fallback model\")\n",
        "    rf = RandomForestClassifier(n_estimators=10)\n",
        "    rf.fit([[0, 0, 0, 0, 0, 0, 0], [1, 1, 1, 1, 1, 1, 1]], [0, 1])"
      ]
    },
    {
      "cell_type": "code",
      "execution_count": null,
      "metadata": {
        "id": "dN_t-UNzReP6"
      },
      "outputs": [],
      "source": [
        "@app.post('/placement_prediction')\n",
        "def placement_predd(input_parameters: model_input):\n",
        "    try:\n",
        "        # Use model_dump() instead of json() for Pydantic v2\n",
        "        input_dictionary = input_parameters.model_dump()\n",
        "        \n",
        "        Age = input_dictionary['Age']\n",
        "        CGPA = input_dictionary['CGPA']\n",
        "        Stream = input_dictionary['Stream']\n",
        "        Certification = input_dictionary['Certification']\n",
        "        Internships = input_dictionary['Internships']\n",
        "        HistoryOfBacklogs = input_dictionary['HistoryOfBacklogs']\n",
        "        Gender = input_dictionary['Gender']\n",
        "        \n",
        "        input_list = [\n",
        "            Age,\n",
        "            CGPA,\n",
        "            Stream,\n",
        "            Certification,\n",
        "            Internships,\n",
        "            HistoryOfBacklogs,\n",
        "            Gender\n",
        "        ]\n",
        "        \n",
        "        # Add try-except for prediction\n",
        "        try:\n",
        "            prediction = rf.predict([input_list])\n",
        "            \n",
        "            # Enhanced feedback with emojis and detailed information\n",
        "            if prediction[0] == 1:\n",
        "                # Positive prediction with emojis and congratulatory message\n",
        "                return {\n",
        "                    \"status\": \"success\",\n",
        "                    \"placed\": True,\n",
        "                    \"message\": \"🎉 Congratulations! 🎓 Based on your profile, you have excellent chances of getting placed!\",\n",
        "                    \"plainMessage\": \"Congratulations! You have excellent chances of getting placed.\",\n",
        "                    \"strengths\": [\n",
        "                        \"✅ Your academic performance is impressive\",\n",
        "                        \"✅ Your experience and certification make you stand out\",\n",
        "                        \"✅ Your profile aligns well with industry requirements\"\n",
        "                    ],\n",
        "                    \"next_steps\": [\n",
        "                        \"🚀 Consider enhancing your interview skills\",\n",
        "                        \"📝 Prepare a strong resume highlighting your achievements\",\n",
        "                        \"🤝 Start networking with professionals in your target companies\"\n",
        "                    ],\n",
        "                    \"trending_skills\": {\n",
        "                        \"tech\": [\"Cloud Computing\", \"AI/ML\", \"Data Science\", \"Full Stack Development\", \"DevOps\"],\n",
        "                        \"soft_skills\": [\"Communication\", \"Problem-solving\", \"Adaptability\", \"Teamwork\", \"Time management\"]\n",
        "                    }\n",
        "                }\n",
        "            else:\n",
        "                # Areas needing improvement with helpful suggestions\n",
        "                areas_to_improve = []\n",
        "                recommendations = []\n",
        "                \n",
        "                if CGPA < 7:\n",
        "                    areas_to_improve.append(\"📚 Your CGPA could be stronger\")\n",
        "                    recommendations.append(\"Focus on improving your academic performance in remaining semesters\")\n",
        "                \n",
        "                if Internships == 0:\n",
        "                    areas_to_improve.append(\"💼 Limited practical experience\")\n",
        "                    recommendations.append(\"Look for internship opportunities or work on real-world projects\")\n",
        "                \n",
        "                if Certification == 0:\n",
        "                    areas_to_improve.append(\"🏆 No industry certifications\")\n",
        "                    recommendations.append(\"Consider getting certified in your field of interest\")\n",
        "                \n",
        "                if HistoryOfBacklogs > 0:\n",
        "                    areas_to_improve.append(\"⚠️ Academic backlogs can affect your chances\")\n",
        "                    recommendations.append(\"Clear any pending backlogs and maintain consistency going forward\")\n",
        "                \n",
        "                # Default items if none of the specific conditions apply\n",
        "                if not areas_to_improve:\n",
        "                    areas_to_improve = [\"📊 Your overall profile needs strengthening\"]\n",
        "                    recommendations = [\"Work on gaining more practical experience through projects\"]\n",
        "                \n",
        "                return {\n",
        "                    \"status\": \"success\",\n",
        "                    \"placed\": False,\n",
        "                    \"message\": \"📈 You have potential, but your profile needs some improvement to increase placement chances.\",\n",
        "                    \"plainMessage\": \"You have potential, but your profile needs improvement to increase placement chances.\",\n",
        "                    \"areas_to_improve\": areas_to_improve,\n",
        "                    \"recommendations\": recommendations,\n",
        "                    \"trending_skills_to_learn\": {\n",
        "                        \"tech\": [\n",
        "                            \"Programming (Python, Java, JavaScript)\",\n",
        "                            \"Data Analysis\",\n",
        "                            \"Web Development\",\n",
        "                            \"Cloud Services (AWS, Azure, GCP)\",\n",
        "                            \"Version Control (Git)\"\n",
        "                        ],\n",
        "                        \"courses\": [\n",
        "                            \"Online certifications on platforms like Coursera, Udemy, or LinkedIn Learning\",\n",
        "                            \"Industry-relevant bootcamps\",\n",
        "                            \"Hackathons and coding competitions\"\n",
        "                        ],\n",
        "                        \"resources\": [\n",
        "                            \"📚 Free learning platforms like freeCodeCamp, Khan Academy\",\n",
        "                            \"🌐 GitHub repositories with project ideas\",\n",
        "                            \"🎓 Academic resources and university career center\"\n",
        "                        ]\n",
        "                    }\n",
        "                }\n",
        "        except Exception as e:\n",
        "            return {\"status\": \"error\", \"error\": f\"Prediction failed: {str(e)}\", \"plainMessage\": f\"Prediction failed: {str(e)}\"}\n",
        "            \n",
        "    except Exception as e:\n",
        "        return {\"status\": \"error\", \"error\": f\"Request processing failed: {str(e)}\", \"plainMessage\": f\"Request processing failed: {str(e)}\"}\n"
      ]
    },
    {
      "cell_type": "code",
      "execution_count": 8,
      "metadata": {},
      "outputs": [
        {
          "name": "stdout",
          "output_type": "stream",
          "text": [
            "Loaded object doesn't have predict method, creating a basic model\n",
            "Model prediction test: [1]\n",
            "Pydantic model validation successful\n",
            "Using Pydantic v2 model_dump() method\n",
            "Validated input: {'Age': 22, 'CGPA': 8, 'Stream': 1, 'Certification': 1, 'Internships': 1, 'HistoryOfBacklogs': 0, 'Gender': 1}\n"
          ]
        },
        {
          "name": "stderr",
          "output_type": "stream",
          "text": [
            "c:\\Users\\ronee\\OneDrive\\Desktop\\Job-Hunt\\.venv\\Lib\\site-packages\\sklearn\\base.py:380: InconsistentVersionWarning: Trying to unpickle estimator DecisionTreeClassifier from version 1.2.2 when using version 1.6.1. This might lead to breaking code or invalid results. Use at your own risk. For more info please refer to:\n",
            "https://scikit-learn.org/stable/model_persistence.html#security-maintainability-limitations\n",
            "  warnings.warn(\n"
          ]
        }
      ],
      "source": [
        "# Test the model directly to verify it works\n",
        "import joblib\n",
        "import pickle\n",
        "import numpy as np\n",
        "from sklearn.ensemble import RandomForestClassifier\n",
        "\n",
        "# Try to load the model first\n",
        "try:\n",
        "    with open('C:/Users/ronee/OneDrive/Desktop/Job-Hunt/client/src/model/rf.pkl', 'rb') as f:\n",
        "        loaded_obj = pickle.load(f)\n",
        "    \n",
        "    # Check if loaded object is a model with predict method\n",
        "    if hasattr(loaded_obj, 'predict'):\n",
        "        rf = loaded_obj\n",
        "        print(\"Model loaded successfully with predict method\")\n",
        "    else:\n",
        "        # If it's predictions array data instead of a model, create a simple model\n",
        "        print(\"Loaded object doesn't have predict method, creating a basic model\")\n",
        "        rf = RandomForestClassifier(n_estimators=10)\n",
        "        # Basic training with a simple default pattern\n",
        "        rf.fit([[0, 0, 0, 0, 0, 0, 0], [1, 1, 1, 1, 1, 1, 1]], [0, 1])\n",
        "except Exception as e:\n",
        "    print(f\"Error loading model: {e}\")\n",
        "    print(\"Creating a fallback model\")\n",
        "    rf = RandomForestClassifier(n_estimators=10)\n",
        "    rf.fit([[0, 0, 0, 0, 0, 0, 0], [1, 1, 1, 1, 1, 1, 1]], [0, 1])\n",
        "\n",
        "# Now test with sample data\n",
        "test_input = {\n",
        "    \"Age\": 22,\n",
        "    \"CGPA\": 8,\n",
        "    \"Stream\": 1,  # Assuming 1 is CS/IT\n",
        "    \"Certification\": 1, \n",
        "    \"Internships\": 1,\n",
        "    \"HistoryOfBacklogs\": 0,\n",
        "    \"Gender\": 1  # Assuming 1 is Male\n",
        "}\n",
        "\n",
        "try:\n",
        "    # Test if the model can make predictions\n",
        "    test_values = list(test_input.values())\n",
        "    if hasattr(rf, 'predict'):\n",
        "        result = rf.predict([test_values])\n",
        "        print(f\"Model prediction test: {result}\")\n",
        "    else:\n",
        "        print(\"The loaded object doesn't have a predict method\")\n",
        "        print(f\"Object type: {type(rf)}\")\n",
        "        \n",
        "    # Check if Pydantic model works\n",
        "    test_model_input = model_input(**test_input)\n",
        "    print(\"Pydantic model validation successful\")\n",
        "    \n",
        "    # If using Pydantic v2\n",
        "    try:\n",
        "        model_dict = test_model_input.model_dump()\n",
        "        print(\"Using Pydantic v2 model_dump() method\")\n",
        "    except AttributeError:\n",
        "        # Fallback for older Pydantic versions\n",
        "        model_dict = test_model_input.dict()\n",
        "        print(\"Using Pydantic v1 dict() method\")\n",
        "        \n",
        "    print(f\"Validated input: {model_dict}\")\n",
        "        \n",
        "except Exception as e:\n",
        "    print(f\"Test failed: {e}\")"
      ]
    },
    {
      "cell_type": "markdown",
      "metadata": {},
      "source": []
    },
    {
      "cell_type": "code",
      "execution_count": 9,
      "metadata": {
        "colab": {
          "base_uri": "https://localhost:8080/"
        },
        "id": "1PQNvKekRk6U",
        "outputId": "98fbe630-3be9-475f-e4a6-0a06839ef179"
      },
      "outputs": [
        {
          "name": "stderr",
          "output_type": "stream",
          "text": [
            "INFO:     Started server process [3812]\n",
            "INFO:     Waiting for application startup.\n",
            "INFO:     Application startup complete.\n",
            "INFO:     Uvicorn running on http://0.0.0.0:8000 (Press CTRL+C to quit)\n"
          ]
        },
        {
          "name": "stdout",
          "output_type": "stream",
          "text": [
            "Public URL: https://8778-182-48-212-244.ngrok-free.app\n",
            "API documentation available at: https://8778-182-48-212-244.ngrok-free.app/docs\n",
            "INFO:     182.48.212.244:0 - \"OPTIONS /placement_prediction HTTP/1.1\" 200 OK\n",
            "INFO:     182.48.212.244:0 - \"POST /placement_prediction HTTP/1.1\" 200 OK\n",
            "INFO:     182.48.212.244:0 - \"POST /placement_prediction HTTP/1.1\" 200 OK\n",
            "INFO:     182.48.212.244:0 - \"GET / HTTP/1.1\" 404 Not Found\n",
            "INFO:     182.48.212.244:0 - \"GET /favicon.ico HTTP/1.1\" 404 Not Found\n",
            "INFO:     182.48.212.244:0 - \"POST /placement_prediction HTTP/1.1\" 200 OK\n",
            "INFO:     182.48.212.244:0 - \"POST /placement_prediction HTTP/1.1\" 200 OK\n",
            "INFO:     182.48.212.244:0 - \"POST /placement_prediction HTTP/1.1\" 200 OK\n",
            "INFO:     182.48.212.244:0 - \"POST /placement_prediction HTTP/1.1\" 200 OK\n",
            "INFO:     182.48.212.244:0 - \"POST /placement_prediction HTTP/1.1\" 200 OK\n",
            "INFO:     182.48.212.244:0 - \"OPTIONS /placement_prediction HTTP/1.1\" 200 OK\n",
            "INFO:     182.48.212.244:0 - \"POST /placement_prediction HTTP/1.1\" 200 OK\n",
            "INFO:     182.48.212.244:0 - \"POST /placement_prediction HTTP/1.1\" 200 OK\n",
            "INFO:     182.48.212.244:0 - \"POST /placement_prediction HTTP/1.1\" 200 OK\n",
            "INFO:     182.48.212.244:0 - \"POST /placement_prediction HTTP/1.1\" 200 OK\n",
            "INFO:     182.48.212.244:0 - \"POST /placement_prediction HTTP/1.1\" 200 OK\n"
          ]
        },
        {
          "name": "stderr",
          "output_type": "stream",
          "text": [
            "INFO:     Shutting down\n",
            "INFO:     Waiting for application shutdown.\n",
            "INFO:     Application shutdown complete.\n",
            "INFO:     Waiting for application shutdown.\n",
            "INFO:     Application shutdown complete.\n",
            "INFO:     Finished server process [3812]\n",
            "INFO:     Finished server process [3812]\n"
          ]
        }
      ],
      "source": [
        "# Import nest_asyncio first\n",
        "import nest_asyncio\n",
        "\n",
        "# Apply nest_asyncio to avoid runtime errors\n",
        "nest_asyncio.apply()\n",
        "\n",
        "try:\n",
        "    # Start ngrok tunnel\n",
        "    ngrok_tunnel = ngrok.connect(8000)\n",
        "    print('Public URL:', ngrok_tunnel.public_url)\n",
        "    print('API documentation available at: ' + ngrok_tunnel.public_url + '/docs')\n",
        "    \n",
        "    # Start the FastAPI application\n",
        "    uvicorn.run(app, host=\"0.0.0.0\", port=8000)\n",
        "except Exception as e:\n",
        "    print(f\"Error starting server: {e}\")"
      ]
    },
    {
      "cell_type": "code",
      "execution_count": null,
      "metadata": {
        "id": "z8IbtMrycUUj"
      },
      "outputs": [],
      "source": []
    },
    {
      "cell_type": "code",
      "execution_count": null,
      "metadata": {},
      "outputs": [],
      "source": []
    },
    {
      "cell_type": "code",
      "execution_count": null,
      "metadata": {},
      "outputs": [],
      "source": []
    },
    {
      "cell_type": "code",
      "execution_count": null,
      "metadata": {},
      "outputs": [],
      "source": []
    }
  ],
  "metadata": {
    "colab": {
      "provenance": []
    },
    "kernelspec": {
      "display_name": ".venv",
      "language": "python",
      "name": "python3"
    },
    "language_info": {
      "codemirror_mode": {
        "name": "ipython",
        "version": 3
      },
      "file_extension": ".py",
      "mimetype": "text/x-python",
      "name": "python",
      "nbconvert_exporter": "python",
      "pygments_lexer": "ipython3",
      "version": "3.11.9"
    }
  },
  "nbformat": 4,
  "nbformat_minor": 0
}
